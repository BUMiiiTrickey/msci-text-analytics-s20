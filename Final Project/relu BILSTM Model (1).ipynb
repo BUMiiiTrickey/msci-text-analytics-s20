{
 "cells": [
  {
   "cell_type": "code",
   "execution_count": 3,
   "metadata": {},
   "outputs": [
    {
     "name": "stderr",
     "output_type": "stream",
     "text": [
      "Using TensorFlow backend.\n"
     ]
    }
   ],
   "source": [
    "import gensim\n",
    "import numpy as np\n",
    "import pandas as pd\n",
    "import os\n",
    "import re\n",
    "import csv\n",
    "import codecs\n",
    "import sys\n",
    "import pickle\n",
    "\n",
    "from gensim.scripts.glove2word2vec import glove2word2vec\n",
    "from gensim.models import KeyedVectors\n",
    "from sklearn.model_selection import train_test_split\n",
    "from utils import score\n",
    "\n",
    "from keras import callbacks\n",
    "from keras import optimizers\n",
    "from keras.models import Sequential, Model\n",
    "from keras.layers import Input, Dense, LSTM, Embedding, Dropout, BatchNormalization, Activation, Bidirectional\n",
    "from keras.layers.merge import concatenate\n",
    "from keras.layers.normalization import BatchNormalization\n",
    "from keras.preprocessing.text import text_to_word_sequence, Tokenizer\n",
    "from keras.preprocessing.sequence import pad_sequences\n",
    "\n",
    "import matplotlib as mpl\n",
    "%matplotlib inline\n",
    "from matplotlib import pyplot as plt\n",
    "from keras.utils import plot_model \n",
    "from IPython.display import Image\n",
    "import pydot\n",
    "from sklearn.preprocessing import LabelEncoder\n",
    "from keras.utils import np_utils\n",
    "import tensorflow as tf\n",
    "from nltk.corpus import stopwords\n",
    "from nltk.stem import SnowballStemmer\n",
    "\n",
    "from string import punctuation\n",
    "\n",
    "from keras import backend as K\n",
    "from keras.engine.topology import Layer\n",
    "#from keras import initializations\n",
    "from keras import initializers, regularizers, constraints\n",
    "seed = 1\n",
    "np.random.seed(seed)\n",
    "from IPython.display import SVG\n",
    "from keras.utils import model_to_dot\n"
   ]
  },
  {
   "cell_type": "markdown",
   "metadata": {},
   "source": [
    "# LOAD DATASET"
   ]
  },
  {
   "cell_type": "code",
   "execution_count": 11,
   "metadata": {},
   "outputs": [],
   "source": [
    "# Read the text files of fnc data\n",
    "train_bodies = pd.read_csv('/Users/iris/Desktop/FNC/fnc-1/train_bodies.csv')\n",
    "test_bodies = pd.read_csv('/Users/iris/Desktop/FNC/fnc-1/test_bodies.csv')\n",
    "train_df = pd.read_csv('/Users/iris/Desktop/FNC/fnc-1/train_stances.csv')\n",
    "test_df = pd.read_csv('/Users/iris/Desktop/FNC/fnc-1/test_unlabel.csv')"
   ]
  },
  {
   "cell_type": "code",
   "execution_count": 12,
   "metadata": {},
   "outputs": [],
   "source": [
    "train_df.replace('unrelated',0,True)\n",
    "train_df.replace('agree',1,True)\n",
    "train_df.replace('disagree',2,True)\n",
    "train_df.replace('discuss',3,True)"
   ]
  },
  {
   "cell_type": "code",
   "execution_count": 13,
   "metadata": {},
   "outputs": [],
   "source": [
    "combine_df_train = train_df.join(train_bodies.set_index('Body ID'), on='Body ID')\n",
    "combine_df_test = test_df.join(test_bodies.set_index('Body ID'), on='Body ID')"
   ]
  },
  {
   "cell_type": "code",
   "execution_count": 14,
   "metadata": {},
   "outputs": [
    {
     "data": {
      "text/html": [
       "<div>\n",
       "<style scoped>\n",
       "    .dataframe tbody tr th:only-of-type {\n",
       "        vertical-align: middle;\n",
       "    }\n",
       "\n",
       "    .dataframe tbody tr th {\n",
       "        vertical-align: top;\n",
       "    }\n",
       "\n",
       "    .dataframe thead th {\n",
       "        text-align: right;\n",
       "    }\n",
       "</style>\n",
       "<table border=\"1\" class=\"dataframe\">\n",
       "  <thead>\n",
       "    <tr style=\"text-align: right;\">\n",
       "      <th></th>\n",
       "      <th>Headline</th>\n",
       "      <th>Body ID</th>\n",
       "      <th>Stance</th>\n",
       "      <th>articleBody</th>\n",
       "    </tr>\n",
       "  </thead>\n",
       "  <tbody>\n",
       "    <tr>\n",
       "      <th>0</th>\n",
       "      <td>Police find mass graves with at least '15 bodi...</td>\n",
       "      <td>712</td>\n",
       "      <td>0</td>\n",
       "      <td>Danny Boyle is directing the untitled film\\n\\n...</td>\n",
       "    </tr>\n",
       "    <tr>\n",
       "      <th>1</th>\n",
       "      <td>Hundreds of Palestinians flee floods in Gaza a...</td>\n",
       "      <td>158</td>\n",
       "      <td>1</td>\n",
       "      <td>Hundreds of Palestinians were evacuated from t...</td>\n",
       "    </tr>\n",
       "    <tr>\n",
       "      <th>2</th>\n",
       "      <td>Christian Bale passes on role of Steve Jobs, a...</td>\n",
       "      <td>137</td>\n",
       "      <td>0</td>\n",
       "      <td>30-year-old Moscow resident was hospitalized w...</td>\n",
       "    </tr>\n",
       "    <tr>\n",
       "      <th>3</th>\n",
       "      <td>HBO and Apple in Talks for $15/Month Apple TV ...</td>\n",
       "      <td>1034</td>\n",
       "      <td>0</td>\n",
       "      <td>(Reuters) - A Canadian soldier was shot at the...</td>\n",
       "    </tr>\n",
       "    <tr>\n",
       "      <th>4</th>\n",
       "      <td>Spider burrowed through tourist's stomach and ...</td>\n",
       "      <td>1923</td>\n",
       "      <td>2</td>\n",
       "      <td>Fear not arachnophobes, the story of Bunbury's...</td>\n",
       "    </tr>\n",
       "  </tbody>\n",
       "</table>\n",
       "</div>"
      ],
      "text/plain": [
       "                                            Headline  Body ID  Stance  \\\n",
       "0  Police find mass graves with at least '15 bodi...      712       0   \n",
       "1  Hundreds of Palestinians flee floods in Gaza a...      158       1   \n",
       "2  Christian Bale passes on role of Steve Jobs, a...      137       0   \n",
       "3  HBO and Apple in Talks for $15/Month Apple TV ...     1034       0   \n",
       "4  Spider burrowed through tourist's stomach and ...     1923       2   \n",
       "\n",
       "                                         articleBody  \n",
       "0  Danny Boyle is directing the untitled film\\n\\n...  \n",
       "1  Hundreds of Palestinians were evacuated from t...  \n",
       "2  30-year-old Moscow resident was hospitalized w...  \n",
       "3  (Reuters) - A Canadian soldier was shot at the...  \n",
       "4  Fear not arachnophobes, the story of Bunbury's...  "
      ]
     },
     "execution_count": 14,
     "metadata": {},
     "output_type": "execute_result"
    }
   ],
   "source": [
    "combine_df_train.head()"
   ]
  },
  {
   "cell_type": "code",
   "execution_count": null,
   "metadata": {},
   "outputs": [],
   "source": []
  },
  {
   "cell_type": "markdown",
   "metadata": {},
   "source": [
    "#reference:https://github.com/Youlina3/FNC-1-Challenge/blob/master/LSTMs%2C%20Bidirectional%20LSTMs%20and%20LSTMs%20with%20Attention.ipynb"
   ]
  },
  {
   "cell_type": "code",
   "execution_count": 15,
   "metadata": {},
   "outputs": [],
   "source": [
    "# Pre-processing involves removal of puctuations and converting text to lower case\n",
    "word_seq_head_train = [text_to_word_sequence(head) for head in combine_df_train['Headline']]\n",
    "word_seq_bodies_train = [text_to_word_sequence(body) for body in combine_df_train['articleBody']]\n",
    "word_seq_head_test = [text_to_word_sequence(head) for head in combine_df_test['Headline']]\n",
    "word_seq_bodies_test = [text_to_word_sequence(body) for body in combine_df_test['articleBody']]"
   ]
  },
  {
   "cell_type": "code",
   "execution_count": 16,
   "metadata": {},
   "outputs": [],
   "source": [
    "word_seq = []\n",
    "for i in range(len(word_seq_head_train)):\n",
    "    word_seq.append(word_seq_head_train[i])\n",
    "for i in range(len(word_seq_bodies_train)):\n",
    "    word_seq.append(word_seq_bodies_train[i])\n",
    "for i in range(len(word_seq_head_test)):\n",
    "    word_seq.append(word_seq_head_test[i])\n",
    "for i in range(len(word_seq_bodies_test)):\n",
    "    word_seq.append(word_seq_bodies_test[i])"
   ]
  },
  {
   "cell_type": "code",
   "execution_count": 17,
   "metadata": {},
   "outputs": [
    {
     "name": "stdout",
     "output_type": "stream",
     "text": [
      "Number of words in vocabulary: 35978\n"
     ]
    }
   ],
   "source": [
    "filter_list = '!\"\\'#$%&()*+,-./:;<=>?@[\\\\]^_`{|}~\\t\\n'\n",
    "\n",
    "tokenizer = Tokenizer(num_words=40000, filters=filter_list)\n",
    "tokenizer.fit_on_texts([seq for seq in word_seq])\n",
    "#because it only includes unique words(tokens)\n",
    "\n",
    "print(\"Number of words in vocabulary:\", len(tokenizer.word_index))"
   ]
  },
  {
   "cell_type": "code",
   "execution_count": 18,
   "metadata": {},
   "outputs": [],
   "source": [
    "# Combine headline and body together\n",
    "word_seq_train = [list(i) for i in word_seq_head_train]\n",
    "for i in range(len(word_seq_head_train)):\n",
    "    word_seq_train[i].extend(word_seq_bodies_train[i]) \n",
    "    \n",
    "word_seq_test = [list(i) for i in word_seq_head_test]\n",
    "for i in range(len(word_seq_head_test)):\n",
    "    word_seq_test[i].extend(word_seq_bodies_test[i])"
   ]
  },
  {
   "cell_type": "code",
   "execution_count": 19,
   "metadata": {},
   "outputs": [],
   "source": [
    "X_train = tokenizer.texts_to_sequences([' '.join(seq[:150]) for seq in word_seq_train])\n",
    "X_train = pad_sequences(X_train, maxlen=150, padding='post', truncating='post')\n",
    "y_train = combine_df_train['Stance']"
   ]
  },
  {
   "cell_type": "code",
   "execution_count": 20,
   "metadata": {},
   "outputs": [],
   "source": [
    "X_test = tokenizer.texts_to_sequences([' '.join(seq[:150]) for seq in word_seq_test])\n",
    "X_test = pad_sequences(X_test, maxlen=150, padding='post', truncating='post')"
   ]
  },
  {
   "cell_type": "code",
   "execution_count": 21,
   "metadata": {},
   "outputs": [],
   "source": [
    "encoder_train = LabelEncoder()\n",
    "encoder_train.fit(y_train)\n",
    "encoded_train = encoder_train.transform(y_train)\n",
    "# convert integers to dummy variables (i.e. one hot encoded)\n",
    "dummy_y_train = np_utils.to_categorical(encoded_train)"
   ]
  },
  {
   "cell_type": "code",
   "execution_count": 22,
   "metadata": {},
   "outputs": [],
   "source": [
    "X_train, X_vali, y_train, y_vali = train_test_split(X_train, dummy_y_train, random_state=10, test_size=0.1)"
   ]
  },
  {
   "cell_type": "markdown",
   "metadata": {},
   "source": [
    "# Build Model"
   ]
  },
  {
   "cell_type": "code",
   "execution_count": null,
   "metadata": {},
   "outputs": [],
   "source": [
    "#Loda word2vec model\n",
    "w2v_input_file =  '/Users/iris/Desktop/GoogleNews-vectors-negative300.bin.gz'\n",
    "embeddings = gensim.models.KeyedVectors.load_word2vec_format(w2v_input_file, binary=True)"
   ]
  },
  {
   "cell_type": "code",
   "execution_count": null,
   "metadata": {},
   "outputs": [],
   "source": [
    "#create embedding matrix\n",
    "embeddings_matrix = np.random.uniform(-0.05, 0.05, size=(len(tokenizer.word_index)+1, 100)) \n",
    "for word, i in tokenizer.word_index.items(): \n",
    "    try:\n",
    "        embeddings_vector = embeddings[word]\n",
    "    except KeyError:\n",
    "        embeddings_vector = None\n",
    "    \n",
    "\n",
    "    if embeddings_vector is not None:\n",
    "        embeddings_matrix[i] = embeddings_vector\n",
    "\n",
    "del embeddings"
   ]
  },
  {
   "cell_type": "markdown",
   "metadata": {},
   "source": [
    "# LSTM MODEL"
   ]
  },
  {
   "cell_type": "code",
   "execution_count": null,
   "metadata": {},
   "outputs": [],
   "source": [
    "#Build a sequential model\n",
    "lstm_model = Sequential()\n",
    "lstm_model.add(Embedding(input_dim=len(tokenizer.word_index) + 1,\n",
    "                    output_dim=50, input_length=150,\n",
    "                    weights = [embeddings_matrix], trainable=True, name='word_embedding_layer'))\n",
    "lstm_model.add(LSTM(LSTM_DIM, return_sequences=False, name='lstm_layer1'))\n",
    "lstm_model.add(Dropout(rate=0.2, name='dropout_1')) \n",
    "lstm_model.add(Dense(4, activation='softmax', name='output_layer'))\n",
    "lstm_model.summary()"
   ]
  },
  {
   "cell_type": "code",
   "execution_count": null,
   "metadata": {},
   "outputs": [],
   "source": [
    "#compile model\n",
    "lstm_model.compile(loss='categorical_crossentropy',\n",
    "              optimizer='adam',\n",
    "              metrics=['acc'])"
   ]
  },
  {
   "cell_type": "code",
   "execution_count": null,
   "metadata": {},
   "outputs": [],
   "source": [
    "#set up callbacks\n",
    "filepath=\"./result/lstm/epoch40/lstm_150token_lr0.001_trainable_{epoch:02d}_.h5\"\n",
    "checkpoint = callbacks.ModelCheckpoint(filepath, \n",
    "                                       monitor='val_acc',\n",
    "                                       mode='max',\n",
    "                                       verbose=0, \n",
    "                                       save_best_only=True)\n",
    "\n",
    "es = [checkpoint]"
   ]
  },
  {
   "cell_type": "code",
   "execution_count": null,
   "metadata": {},
   "outputs": [],
   "source": [
    "#Train model with 40 epochs and 128 batch size\n",
    "history_lstm=lstm_model.fit(X_train, y_train, batch_size=128, epochs=40, validation_data=(X_vali, y_vali),callbacks=es)\n",
    "\n",
    "score, acc = lstm_model.evaluate(X_vali,y_vali,\n",
    "                                batch_size=128)\n",
    "print(\"Accuracy on the test set = {0:4.3f}\".format(acc))\n",
    "lstm_model.save('/Users/iris/Desktop/as6/lstm.model')"
   ]
  },
  {
   "cell_type": "code",
   "execution_count": null,
   "metadata": {},
   "outputs": [],
   "source": [
    "SVG(model_to_dot(lstm_model,show_layer_names=True,show_shapes=True,dpi=70).create(prog='dot', format='svg'))"
   ]
  },
  {
   "cell_type": "code",
   "execution_count": null,
   "metadata": {},
   "outputs": [],
   "source": [
    "import matplotlib.pyplot as plt"
   ]
  },
  {
   "cell_type": "code",
   "execution_count": null,
   "metadata": {},
   "outputs": [],
   "source": [
    "#Accuracy score visualization\n",
    "plt.plot(history_lstm.history['accuracy'])\n",
    "plt.plot(history_lstm.history['val_accuracy'])\n",
    "plt.title('Model accuracy')\n",
    "plt.ylabel('Accuracy')\n",
    "plt.xlabel('Epoch')\n",
    "plt.legend(['Train', 'Test'], loc='upper left')\n",
    "plt.show()"
   ]
  },
  {
   "cell_type": "markdown",
   "metadata": {},
   "source": [
    "# LSTM MODEL PREDICTION"
   ]
  },
  {
   "cell_type": "code",
   "execution_count": null,
   "metadata": {},
   "outputs": [],
   "source": [
    "#define evaluation function\n",
    "def evaluate_answer(model,model_inp, true):\n",
    "    inv_category_dict = {0:'unrelated', 1: 'agree', 2: 'disagree', 3: 'discuss'}\n",
    "    predicted = model.predict(model_inp)\n",
    "    predicted = np.argmax(predicted,axis = 1)\n",
    "    t = np.argmax(true,axis = 1)\n",
    "    ground = list()\n",
    "    pred = list()\n",
    "    for i in predicted:\n",
    "        pred.append(inv_category_dict[i])\n",
    "    for i in t:\n",
    "        ground.append(inv_category_dict[i])\n",
    "    score.report_score(ground, pred)"
   ]
  },
  {
   "cell_type": "code",
   "execution_count": null,
   "metadata": {},
   "outputs": [],
   "source": [
    "#Loading LSTM model\n",
    "model_file_path = '/Users/iris/Desktop/as6/lstm.model'\n",
    "model= models.load_model(model_file_path)"
   ]
  },
  {
   "cell_type": "code",
   "execution_count": null,
   "metadata": {},
   "outputs": [],
   "source": [
    "evaluate_answer(model,X_vali,y_vali)"
   ]
  },
  {
   "cell_type": "code",
   "execution_count": null,
   "metadata": {},
   "outputs": [],
   "source": [
    "#Using lstm model predict test data\n",
    "preds = model.predict(X_test)\n",
    "outputs = [np.argmax(p, axis = -1) for p in preds]"
   ]
  },
  {
   "cell_type": "code",
   "execution_count": null,
   "metadata": {},
   "outputs": [],
   "source": [
    "for i in range(len(outputs)):\n",
    "    if outputs[i] == 0: outputs[i] = \"unrelated\"\n",
    "    if outputs[i] == 1: outputs[i] = \"agree\"\n",
    "    if outputs[i] == 2: outputs[i] = \"disagree\"\n",
    "    if outputs[i] == 3: outputs[i] = \"discuss\""
   ]
  },
  {
   "cell_type": "code",
   "execution_count": null,
   "metadata": {},
   "outputs": [],
   "source": [
    "#save predicted results\n",
    "df_predicted = {}\n",
    "df_predicted = pd.DataFrame({'Stance': outputs})\n",
    "result = pd.concat([test_df, df_predicted], axis=1, sort=False)\n",
    "result.to_csv('/Users/iris/Desktop/as6/lstm.csv', index=False, encoding='utf-8')"
   ]
  },
  {
   "cell_type": "markdown",
   "metadata": {},
   "source": [
    "# BILSTM MODEL with ReLu activation"
   ]
  },
  {
   "cell_type": "code",
   "execution_count": null,
   "metadata": {},
   "outputs": [],
   "source": [
    "#Load GloVe embedding model\n",
    "glove_input_file = \"Users/iris/Desktop/glove.100d.txt\"\n",
    "word2vec_output_file = 'glove.100d.txt.word2vec'\n",
    "glove2word2vec(glove_input_file, word2vec_output_file)\n",
    "embeddings = gensim.models.KeyedVectors.load_word2vec_format(word2vec_output_file, binary=False)"
   ]
  },
  {
   "cell_type": "code",
   "execution_count": null,
   "metadata": {},
   "outputs": [],
   "source": [
    "#create embedding matrix\n",
    "embeddings_matrix = np.random.uniform(-0.05, 0.05, size=(len(tokenizer.word_index)+1, 100)) \n",
    "for word, i in tokenizer.word_index.items(): \n",
    "    try:\n",
    "        embeddings_vector = embeddings[word]\n",
    "    except KeyError:\n",
    "        embeddings_vector = None\n",
    "    \n",
    "\n",
    "    if embeddings_vector is not None:\n",
    "        embeddings_matrix[i] = embeddings_vector\n",
    "\n",
    "del embeddings"
   ]
  },
  {
   "cell_type": "code",
   "execution_count": 37,
   "metadata": {},
   "outputs": [
    {
     "name": "stdout",
     "output_type": "stream",
     "text": [
      "Model: \"sequential_1\"\n",
      "_________________________________________________________________\n",
      "Layer (type)                 Output Shape              Param #   \n",
      "=================================================================\n",
      "word_embedding_layer (Embedd (None, None, 100)         3597900   \n",
      "_________________________________________________________________\n",
      "bidirectional_1 (Bidirection (None, 200)               160800    \n",
      "_________________________________________________________________\n",
      "dropout_1 (Dropout)          (None, 200)               0         \n",
      "_________________________________________________________________\n",
      "dense_1 (Dense)              (None, 32)                6432      \n",
      "_________________________________________________________________\n",
      "dropout_2 (Dropout)          (None, 32)                0         \n",
      "_________________________________________________________________\n",
      "output_layer (Dense)         (None, 4)                 132       \n",
      "=================================================================\n",
      "Total params: 3,765,264\n",
      "Trainable params: 3,765,264\n",
      "Non-trainable params: 0\n",
      "_________________________________________________________________\n"
     ]
    }
   ],
   "source": [
    "#Build sequential model with relu activation and 0.2 dropout rate\n",
    "model_1 = Sequential()\n",
    "model_1.add(Embedding(input_dim=len(tokenizer.word_index)+1,\n",
    "                          output_dim=100,\n",
    "                          weights = [embeddings_matrix], trainable=True, name='word_embedding_layer', #False\n",
    "                          mask_zero=True))\n",
    "model_1.add(Bidirectional(LSTM(100, return_sequences=False, name='Bidrectional_lstm_layer1')))\n",
    "model_1.add(Dropout(0.2,name='dropout_1'))\n",
    "model_1.add(Dense(32, activation='relu'))\n",
    "model_1.add(Dropout(rate=0.2, name='dropout_2')) \n",
    "model_1.add(Dense(4, activation='softmax', name='output_layer'))\n",
    "model_1.summary()"
   ]
  },
  {
   "cell_type": "code",
   "execution_count": 38,
   "metadata": {},
   "outputs": [],
   "source": [
    "filepath=\"./result/lstm/epoch40/Bidirectional_lstm_150token_lr0.001_trainable_{epoch:02d}_.h5\"\n",
    "checkpoint = callbacks.ModelCheckpoint(filepath, \n",
    "                                       monitor='val_acc',\n",
    "                                       mode='max',\n",
    "                                       verbose=0, \n",
    "                                       save_best_only=True)\n",
    "\n",
    "callbacks_list1 = [checkpoint]"
   ]
  },
  {
   "cell_type": "code",
   "execution_count": 39,
   "metadata": {},
   "outputs": [],
   "source": [
    "#compile model\n",
    "model_1.compile(loss='categorical_crossentropy',\n",
    "              optimizer='adam',\n",
    "              metrics=['accuracy'])"
   ]
  },
  {
   "cell_type": "code",
   "execution_count": 40,
   "metadata": {},
   "outputs": [
    {
     "name": "stderr",
     "output_type": "stream",
     "text": [
      "/Users/iris/.local/lib/python3.7/site-packages/tensorflow/python/framework/indexed_slices.py:434: UserWarning: Converting sparse IndexedSlices to a dense Tensor of unknown shape. This may consume a large amount of memory.\n",
      "  \"Converting sparse IndexedSlices to a dense Tensor of unknown shape. \"\n"
     ]
    },
    {
     "name": "stdout",
     "output_type": "stream",
     "text": [
      "Train on 44974 samples, validate on 4998 samples\n",
      "Epoch 1/40\n",
      "44974/44974 [==============================] - 152s 3ms/step - loss: 0.6880 - accuracy: 0.7537 - val_loss: 0.5038 - val_accuracy: 0.8125\n",
      "Epoch 2/40\n"
     ]
    },
    {
     "name": "stderr",
     "output_type": "stream",
     "text": [
      "/Users/iris/opt/miniconda3/envs/Assignment2/lib/python3.7/site-packages/keras/callbacks/callbacks.py:707: RuntimeWarning: Can save best model only with val_acc available, skipping.\n",
      "  'skipping.' % (self.monitor), RuntimeWarning)\n"
     ]
    },
    {
     "name": "stdout",
     "output_type": "stream",
     "text": [
      "44974/44974 [==============================] - 151s 3ms/step - loss: 0.4279 - accuracy: 0.8388 - val_loss: 0.3951 - val_accuracy: 0.8527\n",
      "Epoch 3/40\n",
      "44974/44974 [==============================] - 151s 3ms/step - loss: 0.3035 - accuracy: 0.8826 - val_loss: 0.2863 - val_accuracy: 0.8906\n",
      "Epoch 4/40\n",
      "44974/44974 [==============================] - 158s 4ms/step - loss: 0.2260 - accuracy: 0.9125 - val_loss: 0.2377 - val_accuracy: 0.9082\n",
      "Epoch 5/40\n",
      "44974/44974 [==============================] - 158s 4ms/step - loss: 0.1719 - accuracy: 0.9341 - val_loss: 0.2074 - val_accuracy: 0.9252\n",
      "Epoch 6/40\n",
      "44974/44974 [==============================] - 151s 3ms/step - loss: 0.1294 - accuracy: 0.9495 - val_loss: 0.1951 - val_accuracy: 0.9284\n",
      "Epoch 7/40\n",
      "44974/44974 [==============================] - 151s 3ms/step - loss: 0.1030 - accuracy: 0.9619 - val_loss: 0.1746 - val_accuracy: 0.9382\n",
      "Epoch 8/40\n",
      "44974/44974 [==============================] - 152s 3ms/step - loss: 0.0785 - accuracy: 0.9706 - val_loss: 0.1755 - val_accuracy: 0.9422\n",
      "Epoch 9/40\n",
      "44974/44974 [==============================] - 151s 3ms/step - loss: 0.0700 - accuracy: 0.9739 - val_loss: 0.1813 - val_accuracy: 0.9424\n",
      "Epoch 10/40\n",
      "44974/44974 [==============================] - 151s 3ms/step - loss: 0.0573 - accuracy: 0.9791 - val_loss: 0.1775 - val_accuracy: 0.9500\n",
      "Epoch 11/40\n",
      "44974/44974 [==============================] - 151s 3ms/step - loss: 0.0458 - accuracy: 0.9837 - val_loss: 0.1779 - val_accuracy: 0.9510\n",
      "Epoch 12/40\n",
      "44974/44974 [==============================] - 151s 3ms/step - loss: 0.0416 - accuracy: 0.9853 - val_loss: 0.1894 - val_accuracy: 0.9498\n",
      "Epoch 13/40\n",
      "44974/44974 [==============================] - 151s 3ms/step - loss: 0.0397 - accuracy: 0.9865 - val_loss: 0.1654 - val_accuracy: 0.9562\n",
      "Epoch 14/40\n",
      "44974/44974 [==============================] - 151s 3ms/step - loss: 0.0286 - accuracy: 0.9900 - val_loss: 0.1897 - val_accuracy: 0.9544\n",
      "Epoch 15/40\n",
      "44974/44974 [==============================] - 151s 3ms/step - loss: 0.0303 - accuracy: 0.9893 - val_loss: 0.1866 - val_accuracy: 0.9542\n",
      "Epoch 16/40\n",
      "44974/44974 [==============================] - 151s 3ms/step - loss: 0.0276 - accuracy: 0.9896 - val_loss: 0.1903 - val_accuracy: 0.9552\n",
      "Epoch 17/40\n",
      "44974/44974 [==============================] - 151s 3ms/step - loss: 0.0245 - accuracy: 0.9914 - val_loss: 0.2013 - val_accuracy: 0.9548\n",
      "Epoch 18/40\n",
      "44974/44974 [==============================] - 151s 3ms/step - loss: 0.0212 - accuracy: 0.9930 - val_loss: 0.2075 - val_accuracy: 0.9590\n",
      "Epoch 19/40\n",
      "44974/44974 [==============================] - 151s 3ms/step - loss: 0.0170 - accuracy: 0.9942 - val_loss: 0.2179 - val_accuracy: 0.9548\n",
      "Epoch 20/40\n",
      "44974/44974 [==============================] - 151s 3ms/step - loss: 0.0171 - accuracy: 0.9941 - val_loss: 0.2423 - val_accuracy: 0.9534\n",
      "Epoch 21/40\n",
      "44974/44974 [==============================] - 151s 3ms/step - loss: 0.0183 - accuracy: 0.9941 - val_loss: 0.2367 - val_accuracy: 0.9520\n",
      "Epoch 22/40\n",
      "44974/44974 [==============================] - 151s 3ms/step - loss: 0.0180 - accuracy: 0.9940 - val_loss: 0.2101 - val_accuracy: 0.9578\n",
      "Epoch 23/40\n",
      "44974/44974 [==============================] - 151s 3ms/step - loss: 0.0149 - accuracy: 0.9949 - val_loss: 0.2078 - val_accuracy: 0.9596\n",
      "Epoch 24/40\n",
      "44974/44974 [==============================] - 156s 3ms/step - loss: 0.0116 - accuracy: 0.9961 - val_loss: 0.2446 - val_accuracy: 0.9574\n",
      "Epoch 25/40\n",
      "44974/44974 [==============================] - 152s 3ms/step - loss: 0.0159 - accuracy: 0.9947 - val_loss: 0.2305 - val_accuracy: 0.9540\n",
      "Epoch 26/40\n",
      "44974/44974 [==============================] - 152s 3ms/step - loss: 0.0136 - accuracy: 0.9954 - val_loss: 0.2145 - val_accuracy: 0.9596\n",
      "Epoch 27/40\n",
      "44974/44974 [==============================] - 152s 3ms/step - loss: 0.0123 - accuracy: 0.9960 - val_loss: 0.2297 - val_accuracy: 0.9586\n",
      "Epoch 28/40\n",
      "44974/44974 [==============================] - 151s 3ms/step - loss: 0.0111 - accuracy: 0.9961 - val_loss: 0.2323 - val_accuracy: 0.9580\n",
      "Epoch 29/40\n",
      "44974/44974 [==============================] - 152s 3ms/step - loss: 0.0089 - accuracy: 0.9971 - val_loss: 0.2171 - val_accuracy: 0.9660\n",
      "Epoch 30/40\n",
      "44974/44974 [==============================] - 152s 3ms/step - loss: 0.0093 - accuracy: 0.9970 - val_loss: 0.2276 - val_accuracy: 0.9638\n",
      "Epoch 31/40\n",
      "44974/44974 [==============================] - 152s 3ms/step - loss: 0.0109 - accuracy: 0.9969 - val_loss: 0.2394 - val_accuracy: 0.9622\n",
      "Epoch 32/40\n",
      "44974/44974 [==============================] - 152s 3ms/step - loss: 0.0114 - accuracy: 0.9964 - val_loss: 0.2296 - val_accuracy: 0.9602\n",
      "Epoch 33/40\n",
      "44974/44974 [==============================] - 150s 3ms/step - loss: 0.0083 - accuracy: 0.9975 - val_loss: 0.2233 - val_accuracy: 0.9616\n",
      "Epoch 34/40\n",
      "44974/44974 [==============================] - 151s 3ms/step - loss: 0.0107 - accuracy: 0.9966 - val_loss: 0.2191 - val_accuracy: 0.9618\n",
      "Epoch 35/40\n",
      "44974/44974 [==============================] - 151s 3ms/step - loss: 0.0070 - accuracy: 0.9978 - val_loss: 0.2488 - val_accuracy: 0.9600\n",
      "Epoch 36/40\n",
      "44974/44974 [==============================] - 151s 3ms/step - loss: 0.0086 - accuracy: 0.9970 - val_loss: 0.2465 - val_accuracy: 0.9608\n",
      "Epoch 37/40\n",
      "44974/44974 [==============================] - 151s 3ms/step - loss: 0.0092 - accuracy: 0.9971 - val_loss: 0.2441 - val_accuracy: 0.9612\n",
      "Epoch 38/40\n",
      "44974/44974 [==============================] - 151s 3ms/step - loss: 0.0099 - accuracy: 0.9970 - val_loss: 0.2222 - val_accuracy: 0.9602\n",
      "Epoch 39/40\n",
      "44974/44974 [==============================] - 151s 3ms/step - loss: 0.0056 - accuracy: 0.9984 - val_loss: 0.2492 - val_accuracy: 0.9606\n",
      "Epoch 40/40\n",
      "44974/44974 [==============================] - 151s 3ms/step - loss: 0.0043 - accuracy: 0.9987 - val_loss: 0.2583 - val_accuracy: 0.9630\n"
     ]
    }
   ],
   "source": [
    "#Train model with 40 epochs and 128 batch_size\n",
    "history= model_1.fit(X_train, y_train,\n",
    "          batch_size=128,\n",
    "          epochs=40,\n",
    "          validation_data=(X_vali, y_vali),callbacks = callbacks_list1)"
   ]
  },
  {
   "cell_type": "code",
   "execution_count": 41,
   "metadata": {},
   "outputs": [],
   "source": [
    "model_1.save('/Users/iris/Desktop/as6/reluBilstm.model')"
   ]
  },
  {
   "cell_type": "code",
   "execution_count": 42,
   "metadata": {},
   "outputs": [
    {
     "data": {
      "image/svg+xml": [
       "<svg height=\"538pt\" viewBox=\"0.00 0.00 565.00 553.00\" width=\"549pt\" xmlns=\"http://www.w3.org/2000/svg\" xmlns:xlink=\"http://www.w3.org/1999/xlink\">\n",
       "<g class=\"graph\" id=\"graph0\" transform=\"scale(.9722 .9722) rotate(0) translate(4 549)\">\n",
       "<title>G</title>\n",
       "<polygon fill=\"#ffffff\" points=\"-4,4 -4,-549 561,-549 561,4 -4,4\" stroke=\"transparent\"/>\n",
       "<!-- 140355652761936 -->\n",
       "<g class=\"node\" id=\"node1\">\n",
       "<title>140355652761936</title>\n",
       "<polygon fill=\"none\" points=\"76.5,-498.5 76.5,-544.5 480.5,-544.5 480.5,-498.5 76.5,-498.5\" stroke=\"#000000\"/>\n",
       "<text fill=\"#000000\" font-family=\"Times,serif\" font-size=\"14.00\" text-anchor=\"middle\" x=\"204\" y=\"-517.8\">word_embedding_layer_input: InputLayer</text>\n",
       "<polyline fill=\"none\" points=\"331.5,-498.5 331.5,-544.5 \" stroke=\"#000000\"/>\n",
       "<text fill=\"#000000\" font-family=\"Times,serif\" font-size=\"14.00\" text-anchor=\"middle\" x=\"359.5\" y=\"-529.3\">input:</text>\n",
       "<polyline fill=\"none\" points=\"331.5,-521.5 387.5,-521.5 \" stroke=\"#000000\"/>\n",
       "<text fill=\"#000000\" font-family=\"Times,serif\" font-size=\"14.00\" text-anchor=\"middle\" x=\"359.5\" y=\"-506.3\">output:</text>\n",
       "<polyline fill=\"none\" points=\"387.5,-498.5 387.5,-544.5 \" stroke=\"#000000\"/>\n",
       "<text fill=\"#000000\" font-family=\"Times,serif\" font-size=\"14.00\" text-anchor=\"middle\" x=\"434\" y=\"-529.3\">(None, None)</text>\n",
       "<polyline fill=\"none\" points=\"387.5,-521.5 480.5,-521.5 \" stroke=\"#000000\"/>\n",
       "<text fill=\"#000000\" font-family=\"Times,serif\" font-size=\"14.00\" text-anchor=\"middle\" x=\"434\" y=\"-506.3\">(None, None)</text>\n",
       "</g>\n",
       "<!-- 140355652763600 -->\n",
       "<g class=\"node\" id=\"node2\">\n",
       "<title>140355652763600</title>\n",
       "<polygon fill=\"none\" points=\"79.5,-415.5 79.5,-461.5 477.5,-461.5 477.5,-415.5 79.5,-415.5\" stroke=\"#000000\"/>\n",
       "<text fill=\"#000000\" font-family=\"Times,serif\" font-size=\"14.00\" text-anchor=\"middle\" x=\"190\" y=\"-434.8\">word_embedding_layer: Embedding</text>\n",
       "<polyline fill=\"none\" points=\"300.5,-415.5 300.5,-461.5 \" stroke=\"#000000\"/>\n",
       "<text fill=\"#000000\" font-family=\"Times,serif\" font-size=\"14.00\" text-anchor=\"middle\" x=\"328.5\" y=\"-446.3\">input:</text>\n",
       "<polyline fill=\"none\" points=\"300.5,-438.5 356.5,-438.5 \" stroke=\"#000000\"/>\n",
       "<text fill=\"#000000\" font-family=\"Times,serif\" font-size=\"14.00\" text-anchor=\"middle\" x=\"328.5\" y=\"-423.3\">output:</text>\n",
       "<polyline fill=\"none\" points=\"356.5,-415.5 356.5,-461.5 \" stroke=\"#000000\"/>\n",
       "<text fill=\"#000000\" font-family=\"Times,serif\" font-size=\"14.00\" text-anchor=\"middle\" x=\"417\" y=\"-446.3\">(None, None)</text>\n",
       "<polyline fill=\"none\" points=\"356.5,-438.5 477.5,-438.5 \" stroke=\"#000000\"/>\n",
       "<text fill=\"#000000\" font-family=\"Times,serif\" font-size=\"14.00\" text-anchor=\"middle\" x=\"417\" y=\"-423.3\">(None, None, 100)</text>\n",
       "</g>\n",
       "<!-- 140355652761936&#45;&gt;140355652763600 -->\n",
       "<g class=\"edge\" id=\"edge1\">\n",
       "<title>140355652761936-&gt;140355652763600</title>\n",
       "<path d=\"M278.5,-498.3799C278.5,-490.1745 278.5,-480.7679 278.5,-471.8786\" fill=\"none\" stroke=\"#000000\"/>\n",
       "<polygon fill=\"#000000\" points=\"282.0001,-471.784 278.5,-461.784 275.0001,-471.784 282.0001,-471.784\" stroke=\"#000000\"/>\n",
       "</g>\n",
       "<!-- 140355652762768 -->\n",
       "<g class=\"node\" id=\"node3\">\n",
       "<title>140355652762768</title>\n",
       "<polygon fill=\"none\" points=\"0,-332.5 0,-378.5 557,-378.5 557,-332.5 0,-332.5\" stroke=\"#000000\"/>\n",
       "<text fill=\"#000000\" font-family=\"Times,serif\" font-size=\"14.00\" text-anchor=\"middle\" x=\"190\" y=\"-351.8\">bidirectional_1(Bidrectional_lstm_layer1): Bidirectional(LSTM)</text>\n",
       "<polyline fill=\"none\" points=\"380,-332.5 380,-378.5 \" stroke=\"#000000\"/>\n",
       "<text fill=\"#000000\" font-family=\"Times,serif\" font-size=\"14.00\" text-anchor=\"middle\" x=\"408\" y=\"-363.3\">input:</text>\n",
       "<polyline fill=\"none\" points=\"380,-355.5 436,-355.5 \" stroke=\"#000000\"/>\n",
       "<text fill=\"#000000\" font-family=\"Times,serif\" font-size=\"14.00\" text-anchor=\"middle\" x=\"408\" y=\"-340.3\">output:</text>\n",
       "<polyline fill=\"none\" points=\"436,-332.5 436,-378.5 \" stroke=\"#000000\"/>\n",
       "<text fill=\"#000000\" font-family=\"Times,serif\" font-size=\"14.00\" text-anchor=\"middle\" x=\"496.5\" y=\"-363.3\">(None, None, 100)</text>\n",
       "<polyline fill=\"none\" points=\"436,-355.5 557,-355.5 \" stroke=\"#000000\"/>\n",
       "<text fill=\"#000000\" font-family=\"Times,serif\" font-size=\"14.00\" text-anchor=\"middle\" x=\"496.5\" y=\"-340.3\">(None, 200)</text>\n",
       "</g>\n",
       "<!-- 140355652763600&#45;&gt;140355652762768 -->\n",
       "<g class=\"edge\" id=\"edge2\">\n",
       "<title>140355652763600-&gt;140355652762768</title>\n",
       "<path d=\"M278.5,-415.3799C278.5,-407.1745 278.5,-397.7679 278.5,-388.8786\" fill=\"none\" stroke=\"#000000\"/>\n",
       "<polygon fill=\"#000000\" points=\"282.0001,-388.784 278.5,-378.784 275.0001,-388.784 282.0001,-388.784\" stroke=\"#000000\"/>\n",
       "</g>\n",
       "<!-- 140355652761424 -->\n",
       "<g class=\"node\" id=\"node4\">\n",
       "<title>140355652761424</title>\n",
       "<polygon fill=\"none\" points=\"144.5,-249.5 144.5,-295.5 412.5,-295.5 412.5,-249.5 144.5,-249.5\" stroke=\"#000000\"/>\n",
       "<text fill=\"#000000\" font-family=\"Times,serif\" font-size=\"14.00\" text-anchor=\"middle\" x=\"208.5\" y=\"-268.8\">dropout_1: Dropout</text>\n",
       "<polyline fill=\"none\" points=\"272.5,-249.5 272.5,-295.5 \" stroke=\"#000000\"/>\n",
       "<text fill=\"#000000\" font-family=\"Times,serif\" font-size=\"14.00\" text-anchor=\"middle\" x=\"300.5\" y=\"-280.3\">input:</text>\n",
       "<polyline fill=\"none\" points=\"272.5,-272.5 328.5,-272.5 \" stroke=\"#000000\"/>\n",
       "<text fill=\"#000000\" font-family=\"Times,serif\" font-size=\"14.00\" text-anchor=\"middle\" x=\"300.5\" y=\"-257.3\">output:</text>\n",
       "<polyline fill=\"none\" points=\"328.5,-249.5 328.5,-295.5 \" stroke=\"#000000\"/>\n",
       "<text fill=\"#000000\" font-family=\"Times,serif\" font-size=\"14.00\" text-anchor=\"middle\" x=\"370.5\" y=\"-280.3\">(None, 200)</text>\n",
       "<polyline fill=\"none\" points=\"328.5,-272.5 412.5,-272.5 \" stroke=\"#000000\"/>\n",
       "<text fill=\"#000000\" font-family=\"Times,serif\" font-size=\"14.00\" text-anchor=\"middle\" x=\"370.5\" y=\"-257.3\">(None, 200)</text>\n",
       "</g>\n",
       "<!-- 140355652762768&#45;&gt;140355652761424 -->\n",
       "<g class=\"edge\" id=\"edge3\">\n",
       "<title>140355652762768-&gt;140355652761424</title>\n",
       "<path d=\"M278.5,-332.3799C278.5,-324.1745 278.5,-314.7679 278.5,-305.8786\" fill=\"none\" stroke=\"#000000\"/>\n",
       "<polygon fill=\"#000000\" points=\"282.0001,-305.784 278.5,-295.784 275.0001,-305.784 282.0001,-305.784\" stroke=\"#000000\"/>\n",
       "</g>\n",
       "<!-- 140355650349200 -->\n",
       "<g class=\"node\" id=\"node5\">\n",
       "<title>140355650349200</title>\n",
       "<polygon fill=\"none\" points=\"156,-166.5 156,-212.5 401,-212.5 401,-166.5 156,-166.5\" stroke=\"#000000\"/>\n",
       "<text fill=\"#000000\" font-family=\"Times,serif\" font-size=\"14.00\" text-anchor=\"middle\" x=\"208.5\" y=\"-185.8\">dense_1: Dense</text>\n",
       "<polyline fill=\"none\" points=\"261,-166.5 261,-212.5 \" stroke=\"#000000\"/>\n",
       "<text fill=\"#000000\" font-family=\"Times,serif\" font-size=\"14.00\" text-anchor=\"middle\" x=\"289\" y=\"-197.3\">input:</text>\n",
       "<polyline fill=\"none\" points=\"261,-189.5 317,-189.5 \" stroke=\"#000000\"/>\n",
       "<text fill=\"#000000\" font-family=\"Times,serif\" font-size=\"14.00\" text-anchor=\"middle\" x=\"289\" y=\"-174.3\">output:</text>\n",
       "<polyline fill=\"none\" points=\"317,-166.5 317,-212.5 \" stroke=\"#000000\"/>\n",
       "<text fill=\"#000000\" font-family=\"Times,serif\" font-size=\"14.00\" text-anchor=\"middle\" x=\"359\" y=\"-197.3\">(None, 200)</text>\n",
       "<polyline fill=\"none\" points=\"317,-189.5 401,-189.5 \" stroke=\"#000000\"/>\n",
       "<text fill=\"#000000\" font-family=\"Times,serif\" font-size=\"14.00\" text-anchor=\"middle\" x=\"359\" y=\"-174.3\">(None, 32)</text>\n",
       "</g>\n",
       "<!-- 140355652761424&#45;&gt;140355650349200 -->\n",
       "<g class=\"edge\" id=\"edge4\">\n",
       "<title>140355652761424-&gt;140355650349200</title>\n",
       "<path d=\"M278.5,-249.3799C278.5,-241.1745 278.5,-231.7679 278.5,-222.8786\" fill=\"none\" stroke=\"#000000\"/>\n",
       "<polygon fill=\"#000000\" points=\"282.0001,-222.784 278.5,-212.784 275.0001,-222.784 282.0001,-222.784\" stroke=\"#000000\"/>\n",
       "</g>\n",
       "<!-- 140355650347472 -->\n",
       "<g class=\"node\" id=\"node6\">\n",
       "<title>140355650347472</title>\n",
       "<polygon fill=\"none\" points=\"148,-83.5 148,-129.5 409,-129.5 409,-83.5 148,-83.5\" stroke=\"#000000\"/>\n",
       "<text fill=\"#000000\" font-family=\"Times,serif\" font-size=\"14.00\" text-anchor=\"middle\" x=\"212\" y=\"-102.8\">dropout_2: Dropout</text>\n",
       "<polyline fill=\"none\" points=\"276,-83.5 276,-129.5 \" stroke=\"#000000\"/>\n",
       "<text fill=\"#000000\" font-family=\"Times,serif\" font-size=\"14.00\" text-anchor=\"middle\" x=\"304\" y=\"-114.3\">input:</text>\n",
       "<polyline fill=\"none\" points=\"276,-106.5 332,-106.5 \" stroke=\"#000000\"/>\n",
       "<text fill=\"#000000\" font-family=\"Times,serif\" font-size=\"14.00\" text-anchor=\"middle\" x=\"304\" y=\"-91.3\">output:</text>\n",
       "<polyline fill=\"none\" points=\"332,-83.5 332,-129.5 \" stroke=\"#000000\"/>\n",
       "<text fill=\"#000000\" font-family=\"Times,serif\" font-size=\"14.00\" text-anchor=\"middle\" x=\"370.5\" y=\"-114.3\">(None, 32)</text>\n",
       "<polyline fill=\"none\" points=\"332,-106.5 409,-106.5 \" stroke=\"#000000\"/>\n",
       "<text fill=\"#000000\" font-family=\"Times,serif\" font-size=\"14.00\" text-anchor=\"middle\" x=\"370.5\" y=\"-91.3\">(None, 32)</text>\n",
       "</g>\n",
       "<!-- 140355650349200&#45;&gt;140355650347472 -->\n",
       "<g class=\"edge\" id=\"edge5\">\n",
       "<title>140355650349200-&gt;140355650347472</title>\n",
       "<path d=\"M278.5,-166.3799C278.5,-158.1745 278.5,-148.7679 278.5,-139.8786\" fill=\"none\" stroke=\"#000000\"/>\n",
       "<polygon fill=\"#000000\" points=\"282.0001,-139.784 278.5,-129.784 275.0001,-139.784 282.0001,-139.784\" stroke=\"#000000\"/>\n",
       "</g>\n",
       "<!-- 140355652848144 -->\n",
       "<g class=\"node\" id=\"node7\">\n",
       "<title>140355652848144</title>\n",
       "<polygon fill=\"none\" points=\"147,-.5 147,-46.5 410,-46.5 410,-.5 147,-.5\" stroke=\"#000000\"/>\n",
       "<text fill=\"#000000\" font-family=\"Times,serif\" font-size=\"14.00\" text-anchor=\"middle\" x=\"212\" y=\"-19.8\">output_layer: Dense</text>\n",
       "<polyline fill=\"none\" points=\"277,-.5 277,-46.5 \" stroke=\"#000000\"/>\n",
       "<text fill=\"#000000\" font-family=\"Times,serif\" font-size=\"14.00\" text-anchor=\"middle\" x=\"305\" y=\"-31.3\">input:</text>\n",
       "<polyline fill=\"none\" points=\"277,-23.5 333,-23.5 \" stroke=\"#000000\"/>\n",
       "<text fill=\"#000000\" font-family=\"Times,serif\" font-size=\"14.00\" text-anchor=\"middle\" x=\"305\" y=\"-8.3\">output:</text>\n",
       "<polyline fill=\"none\" points=\"333,-.5 333,-46.5 \" stroke=\"#000000\"/>\n",
       "<text fill=\"#000000\" font-family=\"Times,serif\" font-size=\"14.00\" text-anchor=\"middle\" x=\"371.5\" y=\"-31.3\">(None, 32)</text>\n",
       "<polyline fill=\"none\" points=\"333,-23.5 410,-23.5 \" stroke=\"#000000\"/>\n",
       "<text fill=\"#000000\" font-family=\"Times,serif\" font-size=\"14.00\" text-anchor=\"middle\" x=\"371.5\" y=\"-8.3\">(None, 4)</text>\n",
       "</g>\n",
       "<!-- 140355650347472&#45;&gt;140355652848144 -->\n",
       "<g class=\"edge\" id=\"edge6\">\n",
       "<title>140355650347472-&gt;140355652848144</title>\n",
       "<path d=\"M278.5,-83.3799C278.5,-75.1745 278.5,-65.7679 278.5,-56.8786\" fill=\"none\" stroke=\"#000000\"/>\n",
       "<polygon fill=\"#000000\" points=\"282.0001,-56.784 278.5,-46.784 275.0001,-56.784 282.0001,-56.784\" stroke=\"#000000\"/>\n",
       "</g>\n",
       "</g>\n",
       "</svg>"
      ],
      "text/plain": [
       "<IPython.core.display.SVG object>"
      ]
     },
     "execution_count": 42,
     "metadata": {},
     "output_type": "execute_result"
    }
   ],
   "source": [
    "SVG(model_to_dot(model_1,show_layer_names=True,show_shapes=True,dpi=70).create(prog='dot', format='svg'))"
   ]
  },
  {
   "cell_type": "code",
   "execution_count": 49,
   "metadata": {},
   "outputs": [],
   "source": [
    "import matplotlib.pyplot as plt"
   ]
  },
  {
   "cell_type": "code",
   "execution_count": 50,
   "metadata": {},
   "outputs": [
    {
     "data": {
      "image/png": "[encoded data removed]",
      "text/plain": [
       "<Figure size 432x288 with 1 Axes>"
      ]
     },
     "metadata": {
      "needs_background": "light"
     },
     "output_type": "display_data"
    }
   ],
   "source": [
    "#Accuracy score visualization\n",
    "plt.plot(history.history['accuracy'])\n",
    "plt.plot(history.history['val_accuracy'])\n",
    "plt.title('Model accuracy')\n",
    "plt.ylabel('Accuracy')\n",
    "plt.xlabel('Epoch')\n",
    "plt.legend(['Train', 'Test'], loc='upper left')\n",
    "plt.show()"
   ]
  },
  {
   "cell_type": "markdown",
   "metadata": {},
   "source": [
    "# Bilstm model Prediction"
   ]
  },
  {
   "cell_type": "code",
   "execution_count": 24,
   "metadata": {},
   "outputs": [],
   "source": [
    "from keras import models"
   ]
  },
  {
   "cell_type": "code",
   "execution_count": 25,
   "metadata": {},
   "outputs": [
    {
     "name": "stderr",
     "output_type": "stream",
     "text": [
      "/Users/iris/.local/lib/python3.7/site-packages/tensorflow/python/framework/indexed_slices.py:434: UserWarning: Converting sparse IndexedSlices to a dense Tensor of unknown shape. This may consume a large amount of memory.\n",
      "  \"Converting sparse IndexedSlices to a dense Tensor of unknown shape. \"\n"
     ]
    }
   ],
   "source": [
    "#loading model\n",
    "model_file_path = '/Users/iris/Desktop/as6/reluBilstm.model'\n",
    "model_1 = models.load_model(model_file_path)"
   ]
  },
  {
   "cell_type": "code",
   "execution_count": 26,
   "metadata": {},
   "outputs": [
    {
     "name": "stdout",
     "output_type": "stream",
     "text": [
      "-------------------------------------------------------------\n",
      "|           |   agree   | disagree  |  discuss  | unrelated |\n",
      "-------------------------------------------------------------\n",
      "|   agree   |    326    |    18     |    17     |    27     |\n",
      "-------------------------------------------------------------\n",
      "| disagree  |    15     |    56     |     1     |     5     |\n",
      "-------------------------------------------------------------\n",
      "|  discuss  |     9     |     4     |    847    |    29     |\n",
      "-------------------------------------------------------------\n",
      "| unrelated |    24     |     7     |    29     |   3584    |\n",
      "-------------------------------------------------------------\n",
      "Score: 2141.0 out of 2265.0\t(94.52538631346579%)\n"
     ]
    }
   ],
   "source": [
    "evaluate_answer(model_1,X_vali,y_vali)"
   ]
  },
  {
   "cell_type": "code",
   "execution_count": 1,
   "metadata": {},
   "outputs": [
    {
     "ename": "NameError",
     "evalue": "name 'model_1' is not defined",
     "output_type": "error",
     "traceback": [
      "\u001b[0;31m---------------------------------------------------------------------------\u001b[0m",
      "\u001b[0;31mNameError\u001b[0m                                 Traceback (most recent call last)",
      "\u001b[0;32m<ipython-input-1-2691c683344f>\u001b[0m in \u001b[0;36m<module>\u001b[0;34m\u001b[0m\n\u001b[0;32m----> 1\u001b[0;31m \u001b[0mpreds\u001b[0m \u001b[0;34m=\u001b[0m \u001b[0mmodel_1\u001b[0m\u001b[0;34m.\u001b[0m\u001b[0mpredict\u001b[0m\u001b[0;34m(\u001b[0m\u001b[0mX_test\u001b[0m\u001b[0;34m)\u001b[0m\u001b[0;34m\u001b[0m\u001b[0;34m\u001b[0m\u001b[0m\n\u001b[0m\u001b[1;32m      2\u001b[0m \u001b[0moutputs\u001b[0m \u001b[0;34m=\u001b[0m \u001b[0;34m[\u001b[0m\u001b[0mnp\u001b[0m\u001b[0;34m.\u001b[0m\u001b[0margmax\u001b[0m\u001b[0;34m(\u001b[0m\u001b[0mp\u001b[0m\u001b[0;34m,\u001b[0m \u001b[0maxis\u001b[0m \u001b[0;34m=\u001b[0m \u001b[0;34m-\u001b[0m\u001b[0;36m1\u001b[0m\u001b[0;34m)\u001b[0m \u001b[0;32mfor\u001b[0m \u001b[0mp\u001b[0m \u001b[0;32min\u001b[0m \u001b[0mpreds\u001b[0m\u001b[0;34m]\u001b[0m\u001b[0;34m\u001b[0m\u001b[0;34m\u001b[0m\u001b[0m\n",
      "\u001b[0;31mNameError\u001b[0m: name 'model_1' is not defined"
     ]
    }
   ],
   "source": [
    "#Predict test data\n",
    "preds = model_1.predict(X_test)\n",
    "outputs = [np.argmax(p, axis = -1) for p in preds]"
   ]
  },
  {
   "cell_type": "code",
   "execution_count": null,
   "metadata": {},
   "outputs": [],
   "source": [
    "for i in range(len(outputs)):\n",
    "    if outputs[i] == 0: outputs[i] = \"unrelated\"\n",
    "    if outputs[i] == 1: outputs[i] = \"agree\"\n",
    "    if outputs[i] == 2: outputs[i] = \"disagree\"\n",
    "    if outputs[i] == 3: outputs[i] = \"discuss\""
   ]
  },
  {
   "cell_type": "code",
   "execution_count": null,
   "metadata": {},
   "outputs": [],
   "source": [
    "#saving test data\n",
    "df_predicted = {}\n",
    "df_predicted = pd.DataFrame({'Stance': outputs})\n",
    "result = pd.concat([test_df, df_predicted], axis=1, sort=False)\n",
    "result.to_csv('/Users/iris/Desktop/as6/reluBilstm.csv', index=False, encoding='utf-8')"
   ]
  },
  {
   "cell_type": "code",
   "execution_count": null,
   "metadata": {},
   "outputs": [],
   "source": []
  }
 ],
 "metadata": {
  "kernelspec": {
   "display_name": "Python 3",
   "language": "python",
   "name": "python3"
  },
  "language_info": {
   "codemirror_mode": {
    "name": "ipython",
    "version": 3
   },
   "file_extension": ".py",
   "mimetype": "text/x-python",
   "name": "python",
   "nbconvert_exporter": "python",
   "pygments_lexer": "ipython3",
   "version": "3.7.7"
  }
 },
 "nbformat": 4,
 "nbformat_minor": 4
}
